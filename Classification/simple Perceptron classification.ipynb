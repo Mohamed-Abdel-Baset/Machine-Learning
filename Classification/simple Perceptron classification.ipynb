{
 "cells": [
  {
   "cell_type": "code",
   "execution_count": 10,
   "metadata": {},
   "outputs": [],
   "source": [
    "import numpy as np\n",
    "import matplotlib.pyplot as plt\n",
    "import seaborn as sns"
   ]
  },
  {
   "cell_type": "markdown",
   "metadata": {},
   "source": [
    "## Data:"
   ]
  },
  {
   "cell_type": "code",
   "execution_count": 96,
   "metadata": {},
   "outputs": [],
   "source": [
    "features = np.array([[1,3], [2,1], [5,4], [6,2], [3,3], [5,8], [1,1], [7,4], [3,2], [4,8]])\n",
    "labels = np.array([0,0,1,1,0,1,0,1,0,1,])"
   ]
  },
  {
   "cell_type": "code",
   "execution_count": 97,
   "metadata": {},
   "outputs": [
    {
     "name": "stderr",
     "output_type": "stream",
     "text": [
      "/home/m.abdelbaset/anaconda3/lib/python3.8/site-packages/seaborn/_decorators.py:36: FutureWarning: Pass the following variables as keyword args: x, y. From version 0.12, the only valid positional argument will be `data`, and passing other arguments without an explicit keyword will result in an error or misinterpretation.\n",
      "  warnings.warn(\n"
     ]
    },
    {
     "data": {
      "text/plain": [
       "<AxesSubplot:>"
      ]
     },
     "execution_count": 97,
     "metadata": {},
     "output_type": "execute_result"
    },
    {
     "data": {
      "image/png": "[encoded data removed]",
      "text/plain": [
       "<Figure size 432x288 with 1 Axes>"
      ]
     },
     "metadata": {
      "needs_background": "light"
     },
     "output_type": "display_data"
    }
   ],
   "source": [
    "# Plotting the points\n",
    "sns.scatterplot([x[0] for x in features], [x[1] for x in features], hue=labels)"
   ]
  },
  {
   "cell_type": "code",
   "execution_count": 98,
   "metadata": {},
   "outputs": [],
   "source": [
    "# prediction, score, error\n",
    "def step(x):\n",
    "    if x >=0:\n",
    "        return 1\n",
    "    else: \n",
    "        return 0\n",
    "    \n",
    "# Calculate score of a point\n",
    "def score(features, weights, bias):\n",
    "    return weights.dot(features) + bias\n",
    "\n",
    "# model prediction based on feature point\n",
    "def prediction(features, weights, bias):\n",
    "    return step(score(features, weights, bias))\n",
    "\n",
    "# Calculate the error of a point\n",
    "def error(features, label, weights, bias):\n",
    "    pred = prediction(features, weights, bias)\n",
    "    if pred-label == 0:\n",
    "        return 0\n",
    "    else:\n",
    "        return np.abs(score(features, weights, bias))\n",
    "    \n"
   ]
  },
  {
   "cell_type": "code",
   "execution_count": 99,
   "metadata": {},
   "outputs": [],
   "source": [
    "# updating model parameters - separating line parameters\n",
    "def percertron_update(weights, bias, feature, label, learning_rate=0.1):\n",
    "    pred = prediction(feature, weights, bias)\n",
    "\n",
    "    weights = weights + ((label-pred) * learning_rate) * feature\n",
    "    bias = bias + (label-pred) * learning_rate\n",
    "    \n",
    "    return weights, bias"
   ]
  },
  {
   "cell_type": "code",
   "execution_count": 136,
   "metadata": {},
   "outputs": [],
   "source": [
    "np.random.seed(15)\n",
    "def perceptron_algorithm(features, labels):\n",
    "    # initial weights and bias values\n",
    "    weights = np.array([1.0 for i in range(len(features[0]))])\n",
    "    bias = 1\n",
    "    \n",
    "    for i in range(1000):   # make 1000 iteration\n",
    "        # pick random point\n",
    "        n = np.random.randint(0, len(features)-1)\n",
    "        # update the model parameters\n",
    "        weights, bias = percertron_update(weights, bias, features[n], labels[n])\n",
    "        \n",
    "    return weights, bias"
   ]
  },
  {
   "cell_type": "code",
   "execution_count": 137,
   "metadata": {},
   "outputs": [],
   "source": [
    "# calling the perceptrom algorithm on our sample data\n",
    "weights, bias = perceptron_algorithm(features, labels)"
   ]
  },
  {
   "cell_type": "code",
   "execution_count": 138,
   "metadata": {},
   "outputs": [
    {
     "name": "stdout",
     "output_type": "stream",
     "text": [
      "weights : [0.4 0.2]\n",
      "bias : -2.3000000000000007\n"
     ]
    }
   ],
   "source": [
    "# results\n",
    "print(\"weights :\", weights)\n",
    "print(\"bias :\", bias)"
   ]
  },
  {
   "cell_type": "code",
   "execution_count": 140,
   "metadata": {},
   "outputs": [
    {
     "name": "stderr",
     "output_type": "stream",
     "text": [
      "/home/m.abdelbaset/anaconda3/lib/python3.8/site-packages/seaborn/_decorators.py:36: FutureWarning: Pass the following variables as keyword args: x, y. From version 0.12, the only valid positional argument will be `data`, and passing other arguments without an explicit keyword will result in an error or misinterpretation.\n",
      "  warnings.warn(\n"
     ]
    },
    {
     "data": {
      "text/plain": [
       "Text(0.5, 1.0, 'Data points vs seperating line')"
      ]
     },
     "execution_count": 140,
     "metadata": {},
     "output_type": "execute_result"
    },
    {
     "data": {
      "image/png": "[encoded data removed]",
      "text/plain": [
       "<Figure size 432x288 with 1 Axes>"
      ]
     },
     "metadata": {
      "needs_background": "light"
     },
     "output_type": "display_data"
    }
   ],
   "source": [
    "# Visulaization\n",
    "x = np.linspace(0,8,100)\n",
    "y = (weights[0] / -weights[1]) * x + (bias / -weights[1])\n",
    "plt.plot(x, y)\n",
    "sns.scatterplot([x[0] for x in features], [x[1] for x in features], hue=labels)\n",
    "plt.xlabel(\"feature 1\")\n",
    "plt.ylabel(\"feature 2\")\n",
    "plt.xlim([0,8])\n",
    "plt.ylim([0,10])\n",
    "plt.title(\"Data points vs seperating line\")"
   ]
  },
  {
   "cell_type": "code",
   "execution_count": null,
   "metadata": {},
   "outputs": [],
   "source": []
  }
 ],
 "metadata": {
  "kernelspec": {
   "display_name": "Python 3",
   "language": "python",
   "name": "python3"
  },
  "language_info": {
   "codemirror_mode": {
    "name": "ipython",
    "version": 3
   },
   "file_extension": ".py",
   "mimetype": "text/x-python",
   "name": "python",
   "nbconvert_exporter": "python",
   "pygments_lexer": "ipython3",
   "version": "3.8.5"
  }
 },
 "nbformat": 4,
 "nbformat_minor": 4
}
