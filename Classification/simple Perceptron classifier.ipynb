{
 "cells": [
  {
   "cell_type": "markdown",
   "metadata": {},
   "source": [
    "# Introduction:\n",
    "\"In machine learning, the perceptron is an algorithm for supervised learning of binary classifiers. A binary classifier is a function which can decide whether or not an input, represented by a vector of numbers, belongs to some specific class.[1] It is a type of linear classifier, i.e. a classification algorithm that makes its predictions based on a linear predictor function combining a set of weights with the feature vector.\"\n",
    "\n",
    "[wikipedia](https://en.wikipedia.org/wiki/Perceptron)"
   ]
  },
  {
   "cell_type": "code",
   "execution_count": 10,
   "metadata": {},
   "outputs": [],
   "source": [
    "import numpy as np\n",
    "import matplotlib.pyplot as plt\n",
    "import seaborn as sns"
   ]
  },
  {
   "cell_type": "markdown",
   "metadata": {},
   "source": [
    "## Data:"
   ]
  },
  {
   "cell_type": "code",
   "execution_count": 420,
   "metadata": {},
   "outputs": [],
   "source": [
    "# Assume 2 features dataset\n",
    "features = np.array([[1,3], [2,1], [5,4], [6,2], [3,3], [5,8], [1,1], [7,4], [3,2], [3,8], [4,6], [2,3], [6,5]\n",
    "                    , [5,6], [7,7], [1,4], [2,9], [1,8], [4,2], [1.5,2], [2.5, 3.5], [4.5,1], [2,7]])\n",
    "labels = np.array([0,0,1,1,0,1,0,1,0,1,1,0,1,1,1,0,1,1,0,0,0,0,1])"
   ]
  },
  {
   "cell_type": "code",
   "execution_count": 421,
   "metadata": {},
   "outputs": [
    {
     "data": {
      "image/png": "[encoded data removed]",
      "text/plain": [
       "<Figure size 432x288 with 1 Axes>"
      ]
     },
     "metadata": {
      "needs_background": "light"
     },
     "output_type": "display_data"
    }
   ],
   "source": [
    "# Visualizing datapints:\n",
    "feature_1 = [x[0] for x in features]\n",
    "feature_2 = [x[1] for x in features]\n",
    "sns.scatterplot(x=feature_1, y=feature_2, hue=labels);\n",
    "plt.xlabel(\"feature 1\");\n",
    "plt.ylabel(\"feature 2\");\n",
    "plt.title(\"DataPoints\");"
   ]
  },
  {
   "cell_type": "code",
   "execution_count": 422,
   "metadata": {},
   "outputs": [],
   "source": [
    "def step(x):\n",
    "    if x >=0:\n",
    "        return 1\n",
    "    else: \n",
    "        return 0\n",
    "    \n",
    "# Calculate score of a point\n",
    "def score(feature, weights, bias):\n",
    "    return weights.dot(feature) + bias\n",
    "\n",
    "# model prediction based on one feature datapoint\n",
    "def prediction(feature, weights, bias):\n",
    "    return step(score(feature, weights, bias))\n",
    "\n",
    "# Calculate the error of one data point\n",
    "def error(feature, label, weights, bias):\n",
    "    pred = prediction(feature, weights, bias)\n",
    "    if pred-label == 0:\n",
    "        return 0\n",
    "    else:\n",
    "        return np.abs(score(feature, weights, bias))\n",
    "    \n",
    "# calculate mean error for all datapoints\n",
    "def mean_error(features, labels, weights, bias):\n",
    "    total_error = 0\n",
    "    for i in range(len(features)):\n",
    "        total_error += error(features[i], labels[i], weights, bias)\n",
    "    return total_error / len(features)\n"
   ]
  },
  {
   "cell_type": "markdown",
   "metadata": {},
   "source": [
    "## Training:"
   ]
  },
  {
   "cell_type": "code",
   "execution_count": 423,
   "metadata": {},
   "outputs": [],
   "source": [
    "# updating model parameters - separating line parameters\n",
    "def percertron_update(weights, bias, feature, label, learning_rate=0.3):\n",
    "    # predict the class of the point based on current parameters\n",
    "    pred = prediction(feature, weights, bias)\n",
    "    \n",
    "    # update if only the prediction is incorrect\n",
    "    weights = weights + ((label-pred) * learning_rate) * feature\n",
    "    bias = bias + (label-pred) * learning_rate\n",
    "    \n",
    "    return weights, bias"
   ]
  },
  {
   "cell_type": "code",
   "execution_count": 424,
   "metadata": {},
   "outputs": [],
   "source": [
    "np.random.seed(15)\n",
    "# Learning model Parameters\n",
    "def perceptron_algorithm(features, labels, iterations):\n",
    "    # initial weights and bias values\n",
    "    weights = np.array([1.0 for i in range(len(features[0]))])\n",
    "    bias = 1\n",
    "    errors = []\n",
    "    for i in range(iterations):\n",
    "        # pick random point\n",
    "        n = np.random.randint(0, len(features)-1)\n",
    "        # update the model parameters based on Stochastic Gradient Descent\n",
    "        weights, bias = percertron_update(weights, bias, features[n], labels[n])\n",
    "        # calculate mean error for datapoints after the update\n",
    "        errors.append(mean_error(features, labels, weights, bias))\n",
    "    return weights, bias, errors"
   ]
  },
  {
   "cell_type": "code",
   "execution_count": 425,
   "metadata": {},
   "outputs": [],
   "source": [
    "# calling the perceptrom algorithm on our sample data\n",
    "weights, bias, errors = perceptron_algorithm(features, labels, 500)"
   ]
  },
  {
   "cell_type": "code",
   "execution_count": 426,
   "metadata": {},
   "outputs": [
    {
     "name": "stdout",
     "output_type": "stream",
     "text": [
      "weights : [1.   0.55]\n",
      "bias : -5.299999999999998\n"
     ]
    }
   ],
   "source": [
    "# results\n",
    "print(\"weights :\", weights)\n",
    "print(\"bias :\", bias)"
   ]
  },
  {
   "cell_type": "code",
   "execution_count": 427,
   "metadata": {},
   "outputs": [
    {
     "data": {
      "image/png": "[encoded data removed]",
      "text/plain": [
       "<Figure size 432x288 with 1 Axes>"
      ]
     },
     "metadata": {
      "needs_background": "light"
     },
     "output_type": "display_data"
    }
   ],
   "source": [
    "# Plotting the error with epochs\n",
    "plt.scatter(range(500), errors);\n",
    "plt.title(\"Error with epochs\");\n",
    "plt.ylabel('Error');"
   ]
  },
  {
   "cell_type": "markdown",
   "metadata": {},
   "source": [
    "**Error settles at 0 after about 320 iteration**"
   ]
  },
  {
   "cell_type": "markdown",
   "metadata": {},
   "source": [
    "## Visualization of results:"
   ]
  },
  {
   "cell_type": "code",
   "execution_count": 428,
   "metadata": {},
   "outputs": [
    {
     "data": {
      "image/png": "[encoded data removed]",
      "text/plain": [
       "<Figure size 432x288 with 1 Axes>"
      ]
     },
     "metadata": {
      "needs_background": "light"
     },
     "output_type": "display_data"
    }
   ],
   "source": [
    "# Visulaization\n",
    "# Plotting the separating line\n",
    "x = np.linspace(0,8,100)\n",
    "y = (weights[0] / -weights[1]) * x + (bias / -weights[1])\n",
    "plt.plot(x, y);\n",
    "\n",
    "# plotting the datapoints\n",
    "sns.scatterplot(x=feature_1, y=feature_2, hue=labels);\n",
    "plt.xlabel(\"feature 1\");\n",
    "plt.ylabel(\"feature 2\");\n",
    "plt.xlim([0,8]);\n",
    "plt.ylim([0,10]);\n",
    "plt.title(\"Data points vs seperating line\");"
   ]
  },
  {
   "cell_type": "markdown",
   "metadata": {},
   "source": [
    "# Perceptron using sklearn:"
   ]
  },
  {
   "cell_type": "code",
   "execution_count": 429,
   "metadata": {},
   "outputs": [
    {
     "data": {
      "text/plain": [
       "Perceptron()"
      ]
     },
     "execution_count": 429,
     "metadata": {},
     "output_type": "execute_result"
    }
   ],
   "source": [
    "from sklearn.linear_model import Perceptron\n",
    "\n",
    "clf = Perceptron()\n",
    "clf.fit(features, labels)"
   ]
  },
  {
   "cell_type": "code",
   "execution_count": 430,
   "metadata": {},
   "outputs": [
    {
     "data": {
      "text/plain": [
       "1.0"
      ]
     },
     "execution_count": 430,
     "metadata": {},
     "output_type": "execute_result"
    }
   ],
   "source": [
    "clf.score(features, labels)"
   ]
  },
  {
   "cell_type": "code",
   "execution_count": 431,
   "metadata": {},
   "outputs": [],
   "source": [
    "# coefficients\n",
    "weights_sk = clf.coef_[0]\n",
    "bias_sk = clf.intercept_"
   ]
  },
  {
   "cell_type": "code",
   "execution_count": 432,
   "metadata": {},
   "outputs": [
    {
     "data": {
      "image/png": "[encoded data removed]",
      "text/plain": [
       "<Figure size 432x288 with 1 Axes>"
      ]
     },
     "metadata": {
      "needs_background": "light"
     },
     "output_type": "display_data"
    }
   ],
   "source": [
    "# Visulaization\n",
    "# Plotting the separating line\n",
    "x = np.linspace(0,8,100)\n",
    "y = (weights_sk[0] / -weights_sk[1]) * x + (bias_sk / -weights_sk[1])\n",
    "plt.plot(x, y);\n",
    "\n",
    "# plotting the datapoints\n",
    "sns.scatterplot(x=feature_1, y=feature_2, hue=labels);\n",
    "plt.xlabel(\"feature 1\");\n",
    "plt.ylabel(\"feature 2\");\n",
    "plt.xlim([0,8]);\n",
    "plt.ylim([0,10]);\n",
    "plt.title(\"Data points vs seperating line\");"
   ]
  }
 ],
 "metadata": {
  "kernelspec": {
   "display_name": "Python 3",
   "language": "python",
   "name": "python3"
  },
  "language_info": {
   "codemirror_mode": {
    "name": "ipython",
    "version": 3
   },
   "file_extension": ".py",
   "mimetype": "text/x-python",
   "name": "python",
   "nbconvert_exporter": "python",
   "pygments_lexer": "ipython3",
   "version": "3.8.5"
  }
 },
 "nbformat": 4,
 "nbformat_minor": 4
}
